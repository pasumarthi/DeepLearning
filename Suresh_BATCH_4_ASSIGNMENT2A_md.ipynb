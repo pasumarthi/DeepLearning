{
  "nbformat": 4,
  "nbformat_minor": 0,
  "metadata": {
    "colab": {
      "name": "Suresh_BATCH_4_ASSIGNMENT2A.md",
      "version": "0.3.2",
      "provenance": [],
      "collapsed_sections": []
    },
    "kernelspec": {
      "name": "python3",
      "display_name": "Python 3"
    },
    "accelerator": "GPU"
  },
  "cells": [
    {
      "cell_type": "markdown",
      "metadata": {
        "id": "view-in-github",
        "colab_type": "text"
      },
      "source": [
        "[View in Colaboratory](https://colab.research.google.com/github/pasumarthi/DeepLearning/blob/master/Suresh_BATCH_4_ASSIGNMENT2A_md.ipynb)"
      ]
    },
    {
      "metadata": {
        "id": "hHp9NUxNN-__",
        "colab_type": "code",
        "colab": {
          "base_uri": "https://localhost:8080/",
          "height": 185
        },
        "outputId": "4a497a44-629c-40b5-f717-e7786b6a7cc1"
      },
      "cell_type": "code",
      "source": [
        "eip = 3\n",
        "print(type(eip)) # Prints \"<class 'int'>\"\n",
        "print(eip)       # Prints \"3\"\n",
        "print(eip + 1)   # Addition; prints \"4\"\n",
        "print(eip - 1)   # Subtraction; prints \"2\"\n",
        "print(eip * 2)   # Multiplication; prints \"6\"\n",
        "print(eip ** 2)  # Eeipponentiation; prints \"9\"\n",
        "eip += 1\n",
        "print(eip)  # Prints \"4\"\n",
        "eip *= 2\n",
        "print(eip)  # Prints \"8\"\n",
        "y = 2.5\n",
        "print(type(y)) # Prints \"<class 'float'>\"\n",
        "print(y, y + 1, y * 2, y ** 2) # Prints \"2.5 3.5 5.0 6.25\""
      ],
      "execution_count": 1,
      "outputs": [
        {
          "output_type": "stream",
          "text": [
            "<class 'int'>\n",
            "3\n",
            "4\n",
            "2\n",
            "6\n",
            "9\n",
            "4\n",
            "8\n",
            "<class 'float'>\n",
            "2.5 3.5 5.0 6.25\n"
          ],
          "name": "stdout"
        }
      ]
    },
    {
      "metadata": {
        "id": "J3PA8eh-OKJC",
        "colab_type": "text"
      },
      "cell_type": "markdown",
      "source": [
        "**Logical opeartors instead of symbols && ||**"
      ]
    },
    {
      "metadata": {
        "id": "ZBeHkeeZOeZ9",
        "colab_type": "code",
        "colab": {
          "base_uri": "https://localhost:8080/",
          "height": 101
        },
        "outputId": "bc8a8d9f-3c7c-4c7a-ac29-522e67f99b52"
      },
      "cell_type": "code",
      "source": [
        "mlbr = True\n",
        "eip = False\n",
        "print(type(mlbr)) # Prints \"<class 'bool'>\"\n",
        "print(mlbr and eip) # Logical AND; prints \"False\"\n",
        "print(mlbr or eip)  # Logical OR; prints \"True\"\n",
        "print(not mlbr)   # Logical NOT; prints \"False\"\n",
        "print(mlbr != eip)  # Logical XOR; prints \"True"
      ],
      "execution_count": 1,
      "outputs": [
        {
          "output_type": "stream",
          "text": [
            "<class 'bool'>\n",
            "False\n",
            "True\n",
            "False\n",
            "True\n"
          ],
          "name": "stdout"
        }
      ]
    },
    {
      "metadata": {
        "id": "uy5bc8DiOn1v",
        "colab_type": "text"
      },
      "cell_type": "markdown",
      "source": [
        "**String Opertors**"
      ]
    },
    {
      "metadata": {
        "id": "Yh-Z3BdGO08F",
        "colab_type": "code",
        "colab": {
          "base_uri": "https://localhost:8080/",
          "height": 84
        },
        "outputId": "46b5abe4-1636-413b-c4a1-558631304b2c"
      },
      "cell_type": "code",
      "source": [
        "mlbr = 'hello'    # String literals can use single quotes\n",
        "eip = \"world\"    # or double quotes; it does not matter.\n",
        "print(mlbr)       # Prints \"hello\"\n",
        "print(len(mlbr))  # String length; prints \"5\"\n",
        "hw = mlbr + ' ' + eip  # String concatenation\n",
        "print(hw)  # prints \"hello world\"\n",
        "hw12 = '%s %s %d' % (mlbr, eip, 12)  # sprintf style string formatting\n",
        "print(hw12)  # prints \"hello world 12\""
      ],
      "execution_count": 2,
      "outputs": [
        {
          "output_type": "stream",
          "text": [
            "hello\n",
            "5\n",
            "hello world\n",
            "hello world 12\n"
          ],
          "name": "stdout"
        }
      ]
    },
    {
      "metadata": {
        "id": "QtbbIcvPO5om",
        "colab_type": "text"
      },
      "cell_type": "markdown",
      "source": [
        "**Print Methods**"
      ]
    },
    {
      "metadata": {
        "id": "GrazaeC8O_1z",
        "colab_type": "code",
        "colab": {
          "base_uri": "https://localhost:8080/",
          "height": 118
        },
        "outputId": "d4eec32f-c63a-4784-e06b-13d43aba54ef"
      },
      "cell_type": "code",
      "source": [
        "eip = \"hello\"\n",
        "print(eip.capitalize())  # Capitalize a string; prints \"Hello\"\n",
        "print(eip.upper())       # Convert a string to uppercase; prints \"HELLO\"\n",
        "print(eip.rjust(7))      # Right-justify a string, padding with spaces; prints \"  hello\"\n",
        "print(eip.center(7))     # Center a string, padding with spaces; prints \" hello \"\n",
        "print(eip.replace('l', '(ell)'))  # Replace all instances of one substring with another; # prints \"he(ell)(ell)o\"\n",
        "print('  World '.strip())  # Strip leading and trailing whitespace; prints \"world\""
      ],
      "execution_count": 3,
      "outputs": [
        {
          "output_type": "stream",
          "text": [
            "Hello\n",
            "HELLO\n",
            "  hello\n",
            " hello \n",
            "he(ell)(ell)o\n",
            "World\n"
          ],
          "name": "stdout"
        }
      ]
    },
    {
      "metadata": {
        "id": "2rtggcG6PFh1",
        "colab_type": "text"
      },
      "cell_type": "markdown",
      "source": [
        "**Python Containers  & List**"
      ]
    },
    {
      "metadata": {
        "id": "PKEa7l4APLMy",
        "colab_type": "code",
        "colab": {
          "base_uri": "https://localhost:8080/",
          "height": 101
        },
        "outputId": "01587a37-5b43-4426-c5a1-ea12b2fc86c2"
      },
      "cell_type": "code",
      "source": [
        "eip_list = [3, 1, 2]    # Create a list\n",
        "print(eip_list, eip_list[2])  # Prints \"[3, 1, 2] 2\"\n",
        "print(eip_list[-1])     # Negative indices count from the end of the list; prints \"2\"\n",
        "eip_list[2] = 'foo'     # Lists can contain elements of different types\n",
        "print(eip_list)         # Prints \"[3, 1, 'foo']\"\n",
        "eip_list.append('bar')  # Add a new element to the end of the list\n",
        "print(eip_list)         # Prints \"[3, 1, 'foo', 'bar']\"\n",
        "x = eip_list.pop()      # Remove and return the last element of the list\n",
        "print(x, eip_list)      # Prints \"bar [3, 1, 'foo']\""
      ],
      "execution_count": 5,
      "outputs": [
        {
          "output_type": "stream",
          "text": [
            "[3, 1, 2] 2\n",
            "2\n",
            "[3, 1, 'foo']\n",
            "[3, 1, 'foo', 'bar']\n",
            "bar [3, 1, 'foo']\n"
          ],
          "name": "stdout"
        }
      ]
    },
    {
      "metadata": {
        "id": "PagqhHfHPOsy",
        "colab_type": "text"
      },
      "cell_type": "markdown",
      "source": [
        "**Slicing**"
      ]
    },
    {
      "metadata": {
        "id": "rynkB2NBPerb",
        "colab_type": "code",
        "colab": {
          "base_uri": "https://localhost:8080/",
          "height": 134
        },
        "outputId": "89554084-2b3f-475b-c8f0-97351c81109d"
      },
      "cell_type": "code",
      "source": [
        "eip_list = list(range(5))     # range is a built-in function that creates a list of integers\n",
        "print(eip_list)               # Prints \"[0, 1, 2, 3, 4]\"\n",
        "print(eip_list[2:4])          # Get a slice from index 2 to 4 (exclusive); prints \"[2, 3]\"\n",
        "print(eip_list[2:])           # Get a slice from index 2 to the end; prints \"[2, 3, 4]\"\n",
        "print(eip_list[:2])           # Get a slice from the start to index 2 (exclusive); prints \"[0, 1]\"\n",
        "print(eip_list[:])            # Get a slice of the whole list; prints \"[0, 1, 2, 3, 4]\"\n",
        "print(eip_list[:-1])          # Slice indices can be negative; prints \"[0, 1, 2, 3]\"\n",
        "eip_list[2:4] = [8, 9]        # Assign a new sublist to a slice\n",
        "print(eip_list)               # Prints \"[0, 1, 8, 9, 4]\""
      ],
      "execution_count": 4,
      "outputs": [
        {
          "output_type": "stream",
          "text": [
            "[0, 1, 2, 3, 4]\n",
            "[2, 3]\n",
            "[2, 3, 4]\n",
            "[0, 1]\n",
            "[0, 1, 2, 3, 4]\n",
            "[0, 1, 2, 3]\n",
            "[0, 1, 8, 9, 4]\n"
          ],
          "name": "stdout"
        }
      ]
    },
    {
      "metadata": {
        "id": "BZlKa3-UPigB",
        "colab_type": "text"
      },
      "cell_type": "markdown",
      "source": [
        "**Control Loops**"
      ]
    },
    {
      "metadata": {
        "id": "-zy_RTzYPneC",
        "colab_type": "code",
        "colab": {
          "base_uri": "https://localhost:8080/",
          "height": 67
        },
        "outputId": "78b81bc8-81ff-4a5a-e1ab-8d372640c937"
      },
      "cell_type": "code",
      "source": [
        "mlbr = ['cat', 'dog', 'monkey']\n",
        "for eip in mlbr:\n",
        "    print(eip)\n"
      ],
      "execution_count": 6,
      "outputs": [
        {
          "output_type": "stream",
          "text": [
            "cat\n",
            "dog\n",
            "monkey\n"
          ],
          "name": "stdout"
        }
      ]
    },
    {
      "metadata": {
        "id": "D059suf7Ps7P",
        "colab_type": "text"
      },
      "cell_type": "markdown",
      "source": [
        "**Enumeration**"
      ]
    },
    {
      "metadata": {
        "id": "SOgY1XjVPzgo",
        "colab_type": "code",
        "colab": {
          "base_uri": "https://localhost:8080/",
          "height": 67
        },
        "outputId": "50393376-3ef3-473d-dc1d-746ec0f6e7a6"
      },
      "cell_type": "code",
      "source": [
        "mlbr = ['cat', 'dog', 'monkey']\n",
        "for idx, eip in enumerate(mlbr):\n",
        "    print('#%d: %s' % (idx + 1, eip))\n",
        "# Prints \"#1: cat\", \"#2: dog\", \"#3: monkey\", each on its own line"
      ],
      "execution_count": 7,
      "outputs": [
        {
          "output_type": "stream",
          "text": [
            "#1: cat\n",
            "#2: dog\n",
            "#3: monkey\n"
          ],
          "name": "stdout"
        }
      ]
    },
    {
      "metadata": {
        "id": "Eifk6q-_P2OA",
        "colab_type": "text"
      },
      "cell_type": "markdown",
      "source": [
        "**List Comprehension**"
      ]
    },
    {
      "metadata": {
        "id": "BQ40MQ8fQDJV",
        "colab_type": "code",
        "colab": {
          "base_uri": "https://localhost:8080/",
          "height": 67
        },
        "outputId": "84d41071-8b47-4f7a-bb49-f10caef6c2a1"
      },
      "cell_type": "code",
      "source": [
        "eip_list = [0, 1, 2, 3, 4]\n",
        "mlbr_in = []\n",
        "for mlbr in eip_list:\n",
        "    mlbr_in.append(mlbr ** 2)\n",
        "print(mlbr_in)   # Prints [0, 1, 4, 9, 16]\n",
        "\n",
        "eip_list = [0, 1, 2, 3, 4]\n",
        "mlbr_in = [mlbr ** 2 for mlbr in eip_list]\n",
        "print(mlbr_in)   # Prints [0, 1, 4, 9, 16]\n",
        "\n",
        "# list comprehensions can also contain conditions\n",
        "\n",
        "eip_list = [0, 1, 2, 3, 4]\n",
        "mlbr_out = [mlbr ** 2 for mlbr in eip_list if mlbr % 2 == 0]\n",
        "print(mlbr_out)  # Prints \"[0, 4, 16]\""
      ],
      "execution_count": 8,
      "outputs": [
        {
          "output_type": "stream",
          "text": [
            "[0, 1, 4, 9, 16]\n",
            "[0, 1, 4, 9, 16]\n",
            "[0, 4, 16]\n"
          ],
          "name": "stdout"
        }
      ]
    },
    {
      "metadata": {
        "id": "7TxqxXOOQMwO",
        "colab_type": "text"
      },
      "cell_type": "markdown",
      "source": [
        "**Dictionaries**"
      ]
    },
    {
      "metadata": {
        "id": "5N0k1m4oQKoF",
        "colab_type": "code",
        "colab": {
          "base_uri": "https://localhost:8080/",
          "height": 168
        },
        "outputId": "f2023a51-b58d-480e-a646-ef5abf74c95c"
      },
      "cell_type": "code",
      "source": [
        "eip_dict = {'cat': 'cute', 'dog': 'furry'}  # Create a new dictionary with some data\n",
        "print(eip_dict['cat'])       # Get an entry from a dictionary; prints \"cute\"\n",
        "print('cat' in eip_dict)     # Check if a dictionary has a given key; prints \"True\"\n",
        "eip_dict['fish'] = 'wet'     # Set an entry in a dictionary\n",
        "print(eip_dict['fish'])      # Prints \"wet\"\n",
        "# print(eip_dict['monkey'])  # KeyError: 'monkey' not a key of eip_dict\n",
        "print(eip_dict.get('monkey', 'N/A'))  # Get an element with a default; prints \"N/A\"\n",
        "print(eip_dict.get('fish', 'N/A'))    # Get an element with a default; prints \"wet\"\n",
        "del eip_dict['fish']         # Remove an element from a dictionary\n",
        "print(eip_dict.get('fish', 'N/A')) # \"fish\" is no longer a key; prints \"N/A\"\n",
        "\n",
        "\n",
        "# It is easy to iterate over the keys in a dictionary\n",
        "\n",
        "eip_dict = {'person': 2, 'cat': 4, 'spider': 8}\n",
        "for animal in eip_dict:\n",
        "    legs = eip_dict[animal]\n",
        "    print('A %s has %eip_dict legs' % (animal, legs))\n",
        "# Prints \"A person has 2 legs\", \"A cat has 4 legs\", \"A spider has 8 legs\""
      ],
      "execution_count": 9,
      "outputs": [
        {
          "output_type": "stream",
          "text": [
            "cute\n",
            "True\n",
            "wet\n",
            "N/A\n",
            "wet\n",
            "N/A\n",
            "A person has 2.000000e+00ip_dict legs\n",
            "A cat has 4.000000e+00ip_dict legs\n",
            "A spider has 8.000000e+00ip_dict legs\n"
          ],
          "name": "stdout"
        }
      ]
    },
    {
      "metadata": {
        "id": "DxCt4ok-QV7P",
        "colab_type": "text"
      },
      "cell_type": "markdown",
      "source": [
        "**Dictionary Comprehension**"
      ]
    },
    {
      "metadata": {
        "id": "xB7021OzQhPi",
        "colab_type": "code",
        "colab": {
          "base_uri": "https://localhost:8080/",
          "height": 84
        },
        "outputId": "ca665646-3b4b-4f16-d39e-ae8ef6c559f8"
      },
      "cell_type": "code",
      "source": [
        "# If you want access to keys and their corresponding values, use the items method:\n",
        "\n",
        "eip_dict = {'person': 2, 'cat': 4, 'spider': 8}\n",
        "for animal, legs in eip_dict.items():\n",
        "    print('A %s has %d legs' % (animal, legs))\n",
        "# Prints \"A person has 2 legs\", \"A cat has 4 legs\", \"A spider has 8 legs\"\n",
        "\n",
        "# Dictionary comprehension\n",
        "\n",
        "cip_list = [0, 1, 2, 3, 4]\n",
        "mlbr_out = {x: x ** 2 for x in cip_list if x % 2 == 0}\n",
        "print(mlbr_out)  # Prints \"{0: 0, 2: 4, 4: 16}\""
      ],
      "execution_count": 10,
      "outputs": [
        {
          "output_type": "stream",
          "text": [
            "A person has 2 legs\n",
            "A cat has 4 legs\n",
            "A spider has 8 legs\n",
            "{0: 0, 2: 4, 4: 16}\n"
          ],
          "name": "stdout"
        }
      ]
    },
    {
      "metadata": {
        "id": "mKFUQ8yQQlSC",
        "colab_type": "text"
      },
      "cell_type": "markdown",
      "source": [
        "**SETS**"
      ]
    },
    {
      "metadata": {
        "id": "gS6dIAAqQp6-",
        "colab_type": "code",
        "colab": {
          "base_uri": "https://localhost:8080/",
          "height": 118
        },
        "outputId": "9b2fa5af-32f7-46ae-a673-c2f892abf9f2"
      },
      "cell_type": "code",
      "source": [
        "mlbr_sets = {'cat', 'dog'}\n",
        "print('cat' in mlbr_sets)   # Check if an element is in a set; prints \"True\"\n",
        "print('fish' in mlbr_sets)  # prints \"False\"\n",
        "mlbr_sets.add('fish')       # Add an element to a set\n",
        "print('fish' in mlbr_sets)  # Prints \"True\"\n",
        "print(len(mlbr_sets))       # Number of elements in a set; prints \"3\"\n",
        "mlbr_sets.add('cat')        # Adding an element that is already in the set does nothing\n",
        "print(len(mlbr_sets))       # Prints \"3\"\n",
        "mlbr_sets.remove('cat')     # Remove an element from a set\n",
        "print(len(mlbr_sets))       # Prints \"2\""
      ],
      "execution_count": 11,
      "outputs": [
        {
          "output_type": "stream",
          "text": [
            "True\n",
            "False\n",
            "True\n",
            "3\n",
            "3\n",
            "2\n"
          ],
          "name": "stdout"
        }
      ]
    },
    {
      "metadata": {
        "id": "nuAb-R7TQr9_",
        "colab_type": "text"
      },
      "cell_type": "markdown",
      "source": [
        "**Tuples**"
      ]
    },
    {
      "metadata": {
        "id": "mXPFkOeTQwp1",
        "colab_type": "code",
        "colab": {
          "base_uri": "https://localhost:8080/",
          "height": 84
        },
        "outputId": "ea5783b9-1f6e-41df-c98a-10ec8ced25eb"
      },
      "cell_type": "code",
      "source": [
        "eip_dict = {(x, x + 1): x for x in range(10)}  # Create a dictionary with tuple keys\n",
        "print (eip_dict)\n",
        "mlbr_tuples = (5, 6)        \t\t# Create a tuple\n",
        "print(type(mlbr_tuples))\t\t\t# Prints \"<class 'tuple'>\"\n",
        "print(eip_dict[mlbr_tuples])\t\t# Prints \"5\"\n",
        "print(eip_dict[(1, 2)])  \t"
      ],
      "execution_count": 12,
      "outputs": [
        {
          "output_type": "stream",
          "text": [
            "{(0, 1): 0, (1, 2): 1, (2, 3): 2, (3, 4): 3, (4, 5): 4, (5, 6): 5, (6, 7): 6, (7, 8): 7, (8, 9): 8, (9, 10): 9}\n",
            "<class 'tuple'>\n",
            "5\n",
            "1\n"
          ],
          "name": "stdout"
        }
      ]
    },
    {
      "metadata": {
        "id": "3Q93DzqkQ2ZI",
        "colab_type": "text"
      },
      "cell_type": "markdown",
      "source": [
        "**Functions**"
      ]
    },
    {
      "metadata": {
        "id": "oaiKL2bOQ4R7",
        "colab_type": "code",
        "colab": {
          "base_uri": "https://localhost:8080/",
          "height": 67
        },
        "outputId": "6fff47ce-0584-4c20-96db-4b714ae7fbee"
      },
      "cell_type": "code",
      "source": [
        "def mlbr(eip):\n",
        "    if eip > 0:\n",
        "        return 'positive'\n",
        "    elif eip < 0:\n",
        "        return 'negative'\n",
        "    else:\n",
        "        return 'zero'\n",
        "\n",
        "for eip in [-1, 0, 1]:\n",
        "    print(mlbr(eip))\n",
        "# Prints \"negative\", \"zero\", \"positive\""
      ],
      "execution_count": 13,
      "outputs": [
        {
          "output_type": "stream",
          "text": [
            "negative\n",
            "zero\n",
            "positive\n"
          ],
          "name": "stdout"
        }
      ]
    },
    {
      "metadata": {
        "id": "FbtP9ycBQ5hE",
        "colab_type": "text"
      },
      "cell_type": "markdown",
      "source": [
        "**Function Arguments**"
      ]
    },
    {
      "metadata": {
        "id": "1sKXUiLTQ_pe",
        "colab_type": "code",
        "colab": {
          "base_uri": "https://localhost:8080/",
          "height": 50
        },
        "outputId": "6e74f555-1563-4345-e211-1341be3856fc"
      },
      "cell_type": "code",
      "source": [
        "def eip_func(name, loud=False):\n",
        "    if loud:\n",
        "        print('HELLO, %s!' % name.upper())\n",
        "    else:\n",
        "        print('Hello, %s' % name)\n",
        "\n",
        "eip_func('Bob') # Prints \"Hello, Bob\"\n",
        "eip_func('Fred', loud=True)  # Prints \"HELLO, FRED!\""
      ],
      "execution_count": 14,
      "outputs": [
        {
          "output_type": "stream",
          "text": [
            "Hello, Bob\n",
            "HELLO, FRED!\n"
          ],
          "name": "stdout"
        }
      ]
    },
    {
      "metadata": {
        "id": "w_P2eQO3RD9K",
        "colab_type": "text"
      },
      "cell_type": "markdown",
      "source": [
        "**Numpy**"
      ]
    },
    {
      "metadata": {
        "id": "Y2exCdh4RFuF",
        "colab_type": "code",
        "colab": {
          "base_uri": "https://localhost:8080/",
          "height": 118
        },
        "outputId": "2d8ae989-6079-429a-9f0b-d6fd5ef5e37f"
      },
      "cell_type": "code",
      "source": [
        "import numpy as np\n",
        "\n",
        "mlbr_in = np.array([1, 2, 3])   # Create a rank 1 array\n",
        "print(type(mlbr_in))            # Prints \"<class 'numpy.ndarray'>\"\n",
        "print(mlbr_in.shape)            # Prints \"(3,)\"\n",
        "print(mlbr_in[0], mlbr_in[1], mlbr_in[2])   # Prints \"1 2 3\"\n",
        "mlbr_in[0] = 5                  # Change an element of the array\n",
        "print(mlbr_in)                  # Prints \"[5, 2, 3]\"\n",
        "\n",
        "mlbr_out = np.array([[1,2,3],[4,5,6]])    # Create a rank 2 array\n",
        "print(mlbr_out.shape)                     # Prints \"(2, 3)\"\n",
        "print(mlbr_out[0, 0], mlbr_out[0, 1], mlbr_out[1, 0])   # Prints \"1 2 4\""
      ],
      "execution_count": 15,
      "outputs": [
        {
          "output_type": "stream",
          "text": [
            "<class 'numpy.ndarray'>\n",
            "(3,)\n",
            "1 2 3\n",
            "[5 2 3]\n",
            "(2, 3)\n",
            "1 2 4\n"
          ],
          "name": "stdout"
        }
      ]
    },
    {
      "metadata": {
        "id": "zcIdZxBjRIO0",
        "colab_type": "text"
      },
      "cell_type": "markdown",
      "source": [
        "**Numpy Functions**"
      ]
    },
    {
      "metadata": {
        "id": "j_dpuOeaROOH",
        "colab_type": "code",
        "colab": {
          "base_uri": "https://localhost:8080/",
          "height": 134
        },
        "outputId": "97eeea5d-e7b4-4d7d-a29f-17785e33be76"
      },
      "cell_type": "code",
      "source": [
        "import numpy as np\n",
        "\n",
        "mlblr = np.zeros((2,2))   # Create an array of all zeros\n",
        "print(mlblr)                    # Prints \"[[ 0.  0.]\n",
        "\t\t\t\t\t\t                         #             [ 0.  0.]]\"\n",
        "\n",
        "eip = np.ones((1,2))      # Create an array of all ones\n",
        "print(eip)                     # Prints \"[[ 1.  1.]]\"\n",
        "\n",
        "mlblr_in = np.full((2,2), 7)  # Create a constant array\n",
        "print(mlblr_in)               # Prints \"[[ 7.  7.]\n",
        "\t\t\t\t\t\t\t                      #             [ 7.  7.]]\"\n",
        "\n",
        "mlblr_out = np.random.random((2,2))  # Create an array filled with random values\n",
        "print(mlblr_out)                     # Might print \"[[ 0.91940167  0.08143941]"
      ],
      "execution_count": 16,
      "outputs": [
        {
          "output_type": "stream",
          "text": [
            "[[0. 0.]\n",
            " [0. 0.]]\n",
            "[[1. 1.]]\n",
            "[[7 7]\n",
            " [7 7]]\n",
            "[[0.95196735 0.24460064]\n",
            " [0.08766541 0.88144783]]\n"
          ],
          "name": "stdout"
        }
      ]
    },
    {
      "metadata": {
        "id": "5MjV_seARTL-",
        "colab_type": "text"
      },
      "cell_type": "markdown",
      "source": [
        "**Mixing integers**"
      ]
    },
    {
      "metadata": {
        "id": "m74XvNQnRWq2",
        "colab_type": "code",
        "colab": {
          "base_uri": "https://localhost:8080/",
          "height": 50
        },
        "outputId": "ec3dc5d0-d9df-441e-dc9c-766d93479505"
      },
      "cell_type": "code",
      "source": [
        "# Create the following rank 2 array with shape (3, 4)\n",
        "# [[ 1  2  3  4]\n",
        "#  [ 5  6  7  8]\n",
        "#  [ 9 10 11 12]]\n",
        "eip_arr = np.array([[1,2,3,4], [5,6,7,8], [9,10,11,12]])\n",
        "\n",
        "# Two ways of accessing the data in the middle row of the array.\n",
        "row_r1 = eip_arr[1, :]    # Rank 1 view of the second row of a\n",
        "row_r2 = eip_arr[1:2, :]  # Rank 2 view of the second row of a\n",
        "print(row_r1, row_r1.shape)  # Prints \"[5 6 7 8] (4,)\"\n",
        "print(row_r2, row_r2.shape)  # Prints \"[[5 6 7 8]] (1, 4)\""
      ],
      "execution_count": 17,
      "outputs": [
        {
          "output_type": "stream",
          "text": [
            "[5 6 7 8] (4,)\n",
            "[[5 6 7 8]] (1, 4)\n"
          ],
          "name": "stdout"
        }
      ]
    },
    {
      "metadata": {
        "id": "RD796xxCRZof",
        "colab_type": "text"
      },
      "cell_type": "markdown",
      "source": [
        "**Data Types**"
      ]
    },
    {
      "metadata": {
        "id": "EfU0Rw8-RfKT",
        "colab_type": "code",
        "colab": {
          "base_uri": "https://localhost:8080/",
          "height": 67
        },
        "outputId": "40c4ad88-3ca3-43b8-f5a9-07abdcccac7f"
      },
      "cell_type": "code",
      "source": [
        "import numpy as np\n",
        "\n",
        "eip_arr = np.array([1, 2])   # Let numpy choose the datatype\n",
        "print(eip_arr.dtype)         # Prints \"int64\"\n",
        "\n",
        "eip_arr = np.array([1.0, 2.0])   # Let numpy choose the datatype\n",
        "print(eip_arr.dtype)             # Prints \"float64\"\n",
        "\n",
        "eip_arr = np.array([1, 2], dtype=np.int64)   # Force a particular datatype\n",
        "print(eip_arr.dtype)                         # Prints \"int64\""
      ],
      "execution_count": 18,
      "outputs": [
        {
          "output_type": "stream",
          "text": [
            "int64\n",
            "float64\n",
            "int64\n"
          ],
          "name": "stdout"
        }
      ]
    },
    {
      "metadata": {
        "id": "jOwFnPjERhjc",
        "colab_type": "text"
      },
      "cell_type": "markdown",
      "source": [
        "**Array Math**"
      ]
    },
    {
      "metadata": {
        "id": "8_PR-KjeRrQG",
        "colab_type": "code",
        "colab": {
          "base_uri": "https://localhost:8080/",
          "height": 286
        },
        "outputId": "bc744318-d436-4eb8-cebd-0d9da8679245"
      },
      "cell_type": "code",
      "source": [
        "import numpy as np\n",
        "\n",
        "eip_arr = np.array([[1,2],[3,4]], dtype=np.float64)\n",
        "mlblr_arr = np.array([[5,6],[7,8]], dtype=np.float64)\n",
        "\n",
        "print(np.add(eip_arr, mlblr_arr)) # or print(eip_arr + mlblr_arr)\n",
        "# [[ 6.0  8.0]\n",
        "#  [10.0 12.0]]\n",
        "\n",
        "print(np.subtract(eip_arr, mlblr_arr)) or print(eip_arr - mlblr_arr)\n",
        "# [[-4.0 -4.0]\n",
        "#  [-4.0 -4.0]]\n",
        "\n",
        "print(np.multiply(eip_arr, mlblr_arr)) or print(eip_arr * mlblr_arr)\n",
        "# [[ 5.0 12.0]\n",
        "#  [21.0 32.0]]\n",
        "\n",
        "print(np.divide(eip_arr, mlblr_arr)) or print(eip_arr / mlblr_arr)\n",
        "# [[ 0.2         0.33333333]\n",
        "#  [ 0.42857143  0.5       ]]\n",
        "\n",
        "print(np.sqrt(eip_arr))\n",
        "# [[ 1.          1.41421356]\n",
        "#  [ 1.73205081  2.        ]]"
      ],
      "execution_count": 19,
      "outputs": [
        {
          "output_type": "stream",
          "text": [
            "[[ 6.  8.]\n",
            " [10. 12.]]\n",
            "[[-4. -4.]\n",
            " [-4. -4.]]\n",
            "[[-4. -4.]\n",
            " [-4. -4.]]\n",
            "[[ 5. 12.]\n",
            " [21. 32.]]\n",
            "[[ 5. 12.]\n",
            " [21. 32.]]\n",
            "[[0.2        0.33333333]\n",
            " [0.42857143 0.5       ]]\n",
            "[[0.2        0.33333333]\n",
            " [0.42857143 0.5       ]]\n",
            "[[1.         1.41421356]\n",
            " [1.73205081 2.        ]]\n"
          ],
          "name": "stdout"
        }
      ]
    },
    {
      "metadata": {
        "id": "gPKcjjcERtUF",
        "colab_type": "text"
      },
      "cell_type": "markdown",
      "source": [
        "**Dot Function**"
      ]
    },
    {
      "metadata": {
        "id": "yY2ZmPTRR3mK",
        "colab_type": "code",
        "colab": {
          "base_uri": "https://localhost:8080/",
          "height": 151
        },
        "outputId": "0620e52e-efdf-4361-df34-2fc27b5592c9"
      },
      "cell_type": "code",
      "source": [
        "import numpy as np\n",
        "\n",
        "eip_arr = np.array([[1,2],[3,4]])\n",
        "mlblr_arr = np.array([[5,6],[7,8]])\n",
        "\n",
        "mlblr_in = np.array([9,10])\n",
        "mlblr_out = np.array([11, 12])\n",
        "\n",
        "# Inner product of vectors; both produce 219\n",
        "print(mlblr_in.dot(mlblr_out))\n",
        "print(np.dot(mlblr_in, mlblr_out))\n",
        "\n",
        "# Matrix / vector product; both produce the rank 1 array [29 67]\n",
        "print(eip_arr.dot(mlblr_in))\n",
        "print(np.dot(eip_arr, mlblr_in))\n",
        "\n",
        "# Matrix / matrix product; both produce the rank 2 array\n",
        "# [[19 22]\n",
        "#  [43 50]]\n",
        "print(eip_arr.dot(mlblr_arr))\n",
        "print(np.dot(eip_arr, mlblr_arr))"
      ],
      "execution_count": 20,
      "outputs": [
        {
          "output_type": "stream",
          "text": [
            "219\n",
            "219\n",
            "[29 67]\n",
            "[29 67]\n",
            "[[19 22]\n",
            " [43 50]]\n",
            "[[19 22]\n",
            " [43 50]]\n"
          ],
          "name": "stdout"
        }
      ]
    },
    {
      "metadata": {
        "id": "mQ2sAHLHR_ev",
        "colab_type": "text"
      },
      "cell_type": "markdown",
      "source": [
        "**Along Axis**"
      ]
    },
    {
      "metadata": {
        "id": "3qmDTsPYSDq4",
        "colab_type": "code",
        "colab": {
          "base_uri": "https://localhost:8080/",
          "height": 67
        },
        "outputId": "ed355b81-bbd7-411c-ad34-8020b868e533"
      },
      "cell_type": "code",
      "source": [
        "import numpy as np\n",
        "\n",
        "eip_arr = np.array([[1,2],[3,4]])\n",
        "\n",
        "print(np.sum(eip_arr))  # Compute sum of all elements; prints \"10\"\n",
        "print(np.sum(eip_arr, axis=0))  # Compute sum of each column; prints \"[4 6]\"\n",
        "print(np.sum(eip_arr, axis=1))  # Compute sum of each row; prints \"[3 7]\""
      ],
      "execution_count": 21,
      "outputs": [
        {
          "output_type": "stream",
          "text": [
            "10\n",
            "[4 6]\n",
            "[3 7]\n"
          ],
          "name": "stdout"
        }
      ]
    },
    {
      "metadata": {
        "id": "SB4aWG9ZSHyY",
        "colab_type": "text"
      },
      "cell_type": "markdown",
      "source": [
        "**MathPlotLib - Plotting Graphs**"
      ]
    },
    {
      "metadata": {
        "id": "UCW0znfmSIsc",
        "colab_type": "code",
        "colab": {
          "base_uri": "https://localhost:8080/",
          "height": 347
        },
        "outputId": "d1dd594f-71bd-4cb5-db03-69772e152619"
      },
      "cell_type": "code",
      "source": [
        "import numpy as np\n",
        "import matplotlib.pyplot as plt\n",
        "\n",
        "# Compute the x and y coordinates for points on a sine curve\n",
        "eip = np.arange(0, 3 * np.pi, 0.1)\n",
        "mlblr = np.sin(eip)\n",
        "\n",
        "# Plot the points using matplotlib\n",
        "plt.plot(eip, mlblr)\n",
        "plt.show()  # You must call plt.show() to make graphics appear."
      ],
      "execution_count": 22,
      "outputs": [
        {
          "output_type": "display_data",
          "data": {
            "image/png": "[encoded data removed]",
            "text/plain": [
              "<matplotlib.figure.Figure at 0x7f4faaf694e0>"
            ]
          },
          "metadata": {
            "tags": []
          }
        }
      ]
    }
  ]
}